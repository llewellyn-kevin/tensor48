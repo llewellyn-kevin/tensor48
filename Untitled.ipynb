{
 "cells": [
  {
   "cell_type": "code",
   "execution_count": 14,
   "metadata": {
    "scrolled": true
   },
   "outputs": [
    {
     "name": "stdout",
     "output_type": "stream",
     "text": [
      "[[0. 0. 0. 0.]\n",
      " [0. 1. 0. 0.]\n",
      " [0. 0. 1. 0.]\n",
      " [0. 0. 0. 0.]]\n",
      "\n",
      "Score: 0\n",
      "[    ]\n",
      "[    ]\n",
      "[    ]\n",
      "[    ]\n",
      "\n",
      "[    ]\n",
      "[   2]\n",
      "[    ]\n",
      "[    ]\n",
      "\n",
      "[    ]\n",
      "[    ]\n",
      "[   2]\n",
      "[    ]\n",
      "\n",
      "[    ]\n",
      "[    ]\n",
      "[    ]\n",
      "[    ]\n",
      "\n",
      "\n"
     ]
    }
   ],
   "source": [
    "import game\n",
    "board = game.Board()\n",
    "board.print_raw_board()\n",
    "board.print_game_board()"
   ]
  },
  {
   "cell_type": "code",
   "execution_count": null,
   "metadata": {},
   "outputs": [],
   "source": []
  },
  {
   "cell_type": "code",
   "execution_count": null,
   "metadata": {},
   "outputs": [],
   "source": []
  }
 ],
 "metadata": {
  "kernelspec": {
   "display_name": "Python 3",
   "language": "python",
   "name": "python3"
  },
  "language_info": {
   "codemirror_mode": {
    "name": "ipython",
    "version": 3
   },
   "file_extension": ".py",
   "mimetype": "text/x-python",
   "name": "python",
   "nbconvert_exporter": "python",
   "pygments_lexer": "ipython3",
   "version": "3.7.2"
  }
 },
 "nbformat": 4,
 "nbformat_minor": 2
}
